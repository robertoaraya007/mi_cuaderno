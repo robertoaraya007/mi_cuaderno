{
 "cells": [
  {
   "cell_type": "markdown",
   "metadata": {},
   "source": [
    "<center>\n",
    "    <img src=\"https://cf-courses-data.s3.us.cloud-object-storage.appdomain.cloud/IBMDeveloperSkillsNetwork-DS0105EN-SkillsNetwork/labs/Module2/images/SN_web_lightmode.png\" width=\"300\" alt=\"cognitiveclass.ai logo\">\n",
    "</center>\n"
   ]
  },
  {
   "cell_type": "markdown",
   "metadata": {},
   "source": [
    "#### Add your code below following the instructions given in the course\n"
   ]
  },
  {
   "cell_type": "markdown",
   "metadata": {},
   "source": [
    "# Título del Cuaderno"
   ]
  },
  {
   "cell_type": "markdown",
   "metadata": {},
   "source": [
    "## Introducción\n",
    "\n",
    "En este cuaderno, exploraremos los conceptos básicos de este proyecto. A lo largo de este documento, analizaremos....... Nuestro objetivo es .....\n"
   ]
  },
  {
   "cell_type": "markdown",
   "metadata": {},
   "source": [
    "## Lenguajes de la Ciencia de Datos\n",
    "A continuacion se presentan algunos de los lenguajes más utilizados en la ciencia de datos\n",
    "- **Python**: Ampliamente utilizado por su simplicidad y versatilidad, con bibliotecas como Pandas, NumPy y scikit-learn.\n",
    "- **R**: Conocido por sus potentes capacidades estadísticas y visualización de datos a través de bibliotecas como ggplot2 y dplyr.\n",
    "- **SQL**: Utilizado para gestionar y manipular bases de datos, esencial para la obtención de datos.\n",
    "- **Julia**: Un lenguaje emergente que se destaca en el rendimiento computacional y el análisis numérico.\n",
    "- **SAS**: Utilizado en el ámbito empresarial para análisis estadístico y modelado de datos.\n",
    "- **MATLAB**: Popular en entornos académicos y de ingeniería para el análisis numérico y visualización.\n",
    "\n",
    "Estos lenguajes son fundamentales para llevar a cabo análisis de datos, modelado y visualización en proyectos de ciencia de datos.\n"
   ]
  },
  {
   "cell_type": "markdown",
   "metadata": {},
   "source": [
    "## Bibliotecas de Ciencia de Datos\n",
    "\n",
    "A continuación se presentan algunas de las bibliotecas más utilizadas en la ciencia de datos:\n",
    "\n",
    "- **Pandas**: Utilizada para la manipulación y análisis de datos, especialmente para estructuras de datos tipo DataFrame.\n",
    "- **NumPy**: Proporciona soporte para arrays y matrices multidimensionales, junto con una colección de funciones matemáticas de alto nivel.\n",
    "- **Matplotlib**: Biblioteca de visualización que permite crear gráficos y visualizaciones estáticas, animadas e interactivas en Python.\n",
    "- **Seaborn**: Basada en Matplotlib, ofrece una interfaz de alto nivel para crear visualizaciones informativas y atractivas.\n",
    "- **scikit-learn**: Biblioteca para aprendizaje automático que proporciona herramientas simples y eficientes para la minería de datos y análisis predictivo.\n",
    "- **TensorFlow**: Biblioteca de código abierto para el aprendizaje automático y el aprendizaje profundo, desarrollada por Google.\n",
    "- **Keras**: Una API de alto nivel para construir y entrenar modelos de aprendizaje profundo, que funciona sobre TensorFlow.\n",
    "- **Statsmodels**: Utilizada para la estimación de modelos estadísticos y realización de pruebas estadísticas.\n",
    "\n",
    "Estas bibliotecas son fundamentales para llevar a cabo análisis, modelado y visualización en proyectos de ciencia de datos.\n"
   ]
  },
  {
   "cell_type": "markdown",
   "metadata": {},
   "source": [
    "## Herramientas de Ciencia de Datos\n",
    "\n",
    "| Herramienta     | Descripción                                      | Lenguaje     |\n",
    "|------------------|--------------------------------------------------|--------------|\n",
    "| **Jupyter**      | Entorno interactivo para crear y compartir cuadernos. | Python       |\n",
    "| **RStudio**      | IDE para R que facilita la programación en R.   | R            |\n",
    "| **Tableau**      | Herramienta de visualización de datos.           | Variedad     |\n",
    "| **Power BI**     | Herramienta de inteligencia empresarial y visualización de datos. | Variedad     |\n",
    "| **Apache Spark** | Framework para procesamiento de datos a gran escala. | Scala, Python, R |\n",
    "| **KNIME**        | Plataforma de análisis de datos y creación de flujos de trabajo. | Variedad     |\n",
    "| **RapidMiner**   | Plataforma para la ciencia de datos y aprendizaje automático. | Variedad     |\n",
    "\n",
    "Esta tabla resume algunas de las herramientas más utilizadas en la ciencia de datos, junto con una breve descripción y el lenguaje de programación principal asociado.\n"
   ]
  },
  {
   "cell_type": "markdown",
   "metadata": {},
   "source": [
    "## Ejemplos de Expresiones Aritméticas\n",
    "\n",
    "A continuación se presentan algunos ejemplos de expresiones aritméticas que se pueden realizar en Python:\n",
    "\n",
    "1. **Suma**: \n",
    "   - Ejemplo: `5 + 3` \n",
    "   - Resultado: `8`\n",
    "\n",
    "2. **Resta**: \n",
    "   - Ejemplo: `10 - 4` \n",
    "   - Resultado: `6`\n",
    "\n",
    "3. **Multiplicación**: \n",
    "   - Ejemplo: `7 * 6` \n",
    "   - Resultado: `42`\n",
    "\n",
    "4. **División**: \n",
    "   - Ejemplo: `15 / 3` \n",
    "   - Resultado: `5.0`\n",
    "\n",
    "5. **Módulo** (resto de una división):\n",
    "   - Ejemplo: `10 % 3` \n",
    "   - Resultado: `1`\n",
    "\n",
    "6. **Potencia**:\n",
    "   - Ejemplo: `2 ** 3` \n",
    "   - Resultado: `8`\n",
    "\n",
    "Estos ejemplos muestran las operaciones básicas que se pueden realizar en Python utilizando expresiones aritméticas.\n"
   ]
  },
  {
   "cell_type": "code",
   "execution_count": 4,
   "metadata": {},
   "outputs": [
    {
     "name": "stdout",
     "output_type": "stream",
     "text": [
      "El resultado de la multiplicación de 5 y 3 es: 15\n",
      "El resultado de sumar 15 y 10 es: 25\n"
     ]
    }
   ],
   "source": [
    "# Definimos los números\n",
    "a = 5\n",
    "b = 3\n",
    "c = 10\n",
    "\n",
    "# Multiplicamos a y b\n",
    "resultado_multiplicacion = a * b\n",
    "print(f\"El resultado de la multiplicación de {a} y {b} es: {resultado_multiplicacion}\")\n",
    "\n",
    "# Sumamos el resultado de la multiplicación y c\n",
    "resultado_suma = resultado_multiplicacion + c\n",
    "print(f\"El resultado de sumar {resultado_multiplicacion} y {c} es: {resultado_suma}\")\n"
   ]
  },
  {
   "cell_type": "code",
   "execution_count": 5,
   "metadata": {},
   "outputs": [
    {
     "name": "stdout",
     "output_type": "stream",
     "text": [
      "125 minutos son equivalentes a 2 horas y 5 minutos.\n"
     ]
    }
   ],
   "source": [
    "# Función para convertir minutos a horas\n",
    "def convertir_minutos_a_horas(minutos):\n",
    "    horas = minutos // 60          # Dividir por 60 para obtener horas\n",
    "    minutos_restantes = minutos % 60 # Resto de minutos\n",
    "    return horas, minutos_restantes\n",
    "\n",
    "# Ejemplo de uso\n",
    "minutos = 125  # Cambia este valor por el número de minutos que desees convertir\n",
    "horas, minutos_restantes = convertir_minutos_a_horas(minutos)\n",
    "\n",
    "print(f\"{minutos} minutos son equivalentes a {horas} horas y {minutos_restantes} minutos.\")\n"
   ]
  },
  {
   "cell_type": "code",
   "execution_count": 6,
   "metadata": {},
   "outputs": [
    {
     "name": "stdout",
     "output_type": "stream",
     "text": [
      "Objetivos:\n",
      "- Mejorar las habilidades en análisis de datos.\n",
      "- Aprender sobre modelos de aprendizaje automático.\n",
      "- Desarrollar capacidades de visualización de datos.\n",
      "- Colaborar en proyectos de ciencia de datos.\n",
      "- Realizar análisis estadísticos profundos.\n"
     ]
    }
   ],
   "source": [
    "# Lista de objetivos\n",
    "objetivos = [\n",
    "    \"Mejorar las habilidades en análisis de datos.\",\n",
    "    \"Aprender sobre modelos de aprendizaje automático.\",\n",
    "    \"Desarrollar capacidades de visualización de datos.\",\n",
    "    \"Colaborar en proyectos de ciencia de datos.\",\n",
    "    \"Realizar análisis estadísticos profundos.\"\n",
    "]\n",
    "\n",
    "# Imprimir la lista de objetivos\n",
    "print(\"Objetivos:\")\n",
    "for objetivo in objetivos:\n",
    "    print(f\"- {objetivo}\")\n"
   ]
  },
  {
   "cell_type": "markdown",
   "metadata": {},
   "source": [
    "## Autor\n",
    "**Nombre del Autor: Roberto Araya Alvarado**\n"
   ]
  },
  {
   "cell_type": "code",
   "execution_count": null,
   "metadata": {},
   "outputs": [],
   "source": []
  }
 ],
 "metadata": {
  "kernelspec": {
   "display_name": "Python 3 (ipykernel)",
   "language": "python",
   "name": "python3"
  },
  "language_info": {
   "codemirror_mode": {
    "name": "ipython",
    "version": 3
   },
   "file_extension": ".py",
   "mimetype": "text/x-python",
   "name": "python",
   "nbconvert_exporter": "python",
   "pygments_lexer": "ipython3",
   "version": "3.11.9"
  }
 },
 "nbformat": 4,
 "nbformat_minor": 4
}
